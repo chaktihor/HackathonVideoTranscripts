{
 "cells": [
  {
   "cell_type": "code",
   "execution_count": 1,
   "id": "3e3ff18a",
   "metadata": {},
   "outputs": [
    {
     "name": "stdout",
     "output_type": "stream",
     "text": [
      "Extracting audio...\n",
      "MoviePy - Writing audio in temp_audio.wav\n"
     ]
    },
    {
     "name": "stderr",
     "output_type": "stream",
     "text": [
      "                                                                        \r"
     ]
    },
    {
     "name": "stdout",
     "output_type": "stream",
     "text": [
      "MoviePy - Done.\n",
      "Transcribing 8 chunks...\n",
      "Transcript saved to: transcript.txt\n"
     ]
    }
   ],
   "source": [
    "import speech_recognition as sr\n",
    "from moviepy import VideoFileClip\n",
    "from pydub import AudioSegment\n",
    "import os\n",
    "\n",
    "# === Step 1: Convert MP4 to WAV ===\n",
    "video_path = r\"C:\\Users\\Deeksha D\\Desktop\\FY26\\Python Projects\\new\\Videos\\The Personalized Inventory-Aware AI Shopping Experience Hackathon Video.mp4\"   # <-- Change this\n",
    "audio_path = \"temp_audio.wav\"\n",
    "transcript_path = \"transcript.txt\"\n",
    "\n",
    "print(\"Extracting audio...\")\n",
    "video = VideoFileClip(video_path)\n",
    "video.audio.write_audiofile(audio_path)\n",
    "\n",
    "# === Step 2: Load Audio and Transcribe ===\n",
    "recognizer = sr.Recognizer()\n",
    "audio = AudioSegment.from_wav(audio_path)\n",
    "\n",
    "# Split audio into 1-minute chunks (Google limit)\n",
    "chunk_length_ms = 60000\n",
    "chunks = [audio[i:i + chunk_length_ms] for i in range(0, len(audio), chunk_length_ms)]\n",
    "\n",
    "print(f\"Transcribing {len(chunks)} chunks...\")\n",
    "full_transcript = \"\"\n",
    "\n",
    "for i, chunk in enumerate(chunks):\n",
    "    chunk_name = f\"chunk{i}.wav\"\n",
    "    chunk.export(chunk_name, format=\"wav\")\n",
    "    with sr.AudioFile(chunk_name) as source:\n",
    "        audio_data = recognizer.record(source)\n",
    "        try:\n",
    "            text = recognizer.recognize_google(audio_data)\n",
    "            full_transcript += text + \"\\n\"\n",
    "        except sr.UnknownValueError:\n",
    "            full_transcript += \"[Unrecognized audio]\\n\"\n",
    "        except sr.RequestError as e:\n",
    "            full_transcript += f\"[API error: {e}]\\n\"\n",
    "    os.remove(chunk_name)\n",
    "\n",
    "# === Step 3: Save Transcript ===\n",
    "with open(transcript_path, \"w\", encoding=\"utf-8\") as f:\n",
    "    f.write(full_transcript)\n",
    "\n",
    "print(f\"Transcript saved to: {transcript_path}\")\n",
    "os.remove(audio_path)\n"
   ]
  }
 ],
 "metadata": {
  "kernelspec": {
   "display_name": "Python 3",
   "language": "python",
   "name": "python3"
  },
  "language_info": {
   "codemirror_mode": {
    "name": "ipython",
    "version": 3
   },
   "file_extension": ".py",
   "mimetype": "text/x-python",
   "name": "python",
   "nbconvert_exporter": "python",
   "pygments_lexer": "ipython3",
   "version": "3.13.5"
  }
 },
 "nbformat": 4,
 "nbformat_minor": 5
}
